{
  "cells": [
    {
      "cell_type": "code",
      "execution_count": 2,
      "metadata": {
        "colab": {
          "base_uri": "https://localhost:8080/"
        },
        "id": "GDofdpjRsF22",
        "outputId": "c8ab9bf1-c214-4fc4-df1b-4086d4c3d7b6"
      },
      "outputs": [
        {
          "name": "stdout",
          "output_type": "stream",
          "text": [
            "Requirement already satisfied: roboflow in /Users/dhushanthankumararatnam/miniconda3/envs/VisionEnv/lib/python3.11/site-packages (1.1.48)\n",
            "Requirement already satisfied: certifi in /Users/dhushanthankumararatnam/miniconda3/envs/VisionEnv/lib/python3.11/site-packages (from roboflow) (2024.8.30)\n",
            "Requirement already satisfied: idna==3.7 in /Users/dhushanthankumararatnam/miniconda3/envs/VisionEnv/lib/python3.11/site-packages (from roboflow) (3.7)\n",
            "Requirement already satisfied: cycler in /Users/dhushanthankumararatnam/miniconda3/envs/VisionEnv/lib/python3.11/site-packages (from roboflow) (0.12.1)\n",
            "Requirement already satisfied: kiwisolver>=1.3.1 in /Users/dhushanthankumararatnam/miniconda3/envs/VisionEnv/lib/python3.11/site-packages (from roboflow) (1.4.7)\n",
            "Requirement already satisfied: matplotlib in /Users/dhushanthankumararatnam/miniconda3/envs/VisionEnv/lib/python3.11/site-packages (from roboflow) (3.9.2)\n",
            "Requirement already satisfied: numpy>=1.18.5 in /Users/dhushanthankumararatnam/miniconda3/envs/VisionEnv/lib/python3.11/site-packages (from roboflow) (1.26.4)\n",
            "Requirement already satisfied: opencv-python-headless==4.10.0.84 in /Users/dhushanthankumararatnam/miniconda3/envs/VisionEnv/lib/python3.11/site-packages (from roboflow) (4.10.0.84)\n",
            "Requirement already satisfied: Pillow>=7.1.2 in /Users/dhushanthankumararatnam/miniconda3/envs/VisionEnv/lib/python3.11/site-packages (from roboflow) (10.4.0)\n",
            "Requirement already satisfied: python-dateutil in /Users/dhushanthankumararatnam/miniconda3/envs/VisionEnv/lib/python3.11/site-packages (from roboflow) (2.9.0)\n",
            "Requirement already satisfied: python-dotenv in /Users/dhushanthankumararatnam/miniconda3/envs/VisionEnv/lib/python3.11/site-packages (from roboflow) (1.0.1)\n",
            "Requirement already satisfied: requests in /Users/dhushanthankumararatnam/miniconda3/envs/VisionEnv/lib/python3.11/site-packages (from roboflow) (2.31.0)\n",
            "Requirement already satisfied: six in /Users/dhushanthankumararatnam/miniconda3/envs/VisionEnv/lib/python3.11/site-packages (from roboflow) (1.16.0)\n",
            "Requirement already satisfied: urllib3>=1.26.6 in /Users/dhushanthankumararatnam/miniconda3/envs/VisionEnv/lib/python3.11/site-packages (from roboflow) (1.26.20)\n",
            "Requirement already satisfied: tqdm>=4.41.0 in /Users/dhushanthankumararatnam/miniconda3/envs/VisionEnv/lib/python3.11/site-packages (from roboflow) (4.66.5)\n",
            "Requirement already satisfied: PyYAML>=5.3.1 in /Users/dhushanthankumararatnam/miniconda3/envs/VisionEnv/lib/python3.11/site-packages (from roboflow) (6.0.2)\n",
            "Requirement already satisfied: requests-toolbelt in /Users/dhushanthankumararatnam/miniconda3/envs/VisionEnv/lib/python3.11/site-packages (from roboflow) (1.0.0)\n",
            "Requirement already satisfied: filetype in /Users/dhushanthankumararatnam/miniconda3/envs/VisionEnv/lib/python3.11/site-packages (from roboflow) (1.2.0)\n",
            "Requirement already satisfied: contourpy>=1.0.1 in /Users/dhushanthankumararatnam/miniconda3/envs/VisionEnv/lib/python3.11/site-packages (from matplotlib->roboflow) (1.3.0)\n",
            "Requirement already satisfied: fonttools>=4.22.0 in /Users/dhushanthankumararatnam/miniconda3/envs/VisionEnv/lib/python3.11/site-packages (from matplotlib->roboflow) (4.54.1)\n",
            "Requirement already satisfied: packaging>=20.0 in /Users/dhushanthankumararatnam/miniconda3/envs/VisionEnv/lib/python3.11/site-packages (from matplotlib->roboflow) (24.1)\n",
            "Requirement already satisfied: pyparsing>=2.3.1 in /Users/dhushanthankumararatnam/miniconda3/envs/VisionEnv/lib/python3.11/site-packages (from matplotlib->roboflow) (3.1.4)\n",
            "Requirement already satisfied: charset-normalizer<4,>=2 in /Users/dhushanthankumararatnam/miniconda3/envs/VisionEnv/lib/python3.11/site-packages (from requests->roboflow) (3.3.2)\n",
            "loading Roboflow workspace...\n",
            "loading Roboflow project...\n"
          ]
        },
        {
          "name": "stderr",
          "output_type": "stream",
          "text": [
            "Downloading Dataset Version Zip in room-2 to yolov11:: 100%|██████████| 88176/88176 [00:38<00:00, 2287.00it/s]"
          ]
        },
        {
          "name": "stdout",
          "output_type": "stream",
          "text": [
            "\n"
          ]
        },
        {
          "name": "stderr",
          "output_type": "stream",
          "text": [
            "\n",
            "Extracting Dataset Version Zip to room-2 in yolov11:: 100%|██████████| 3742/3742 [00:00<00:00, 6664.07it/s]\n"
          ]
        }
      ],
      "source": [
        "!pip install roboflow\n",
        "\n",
        "from roboflow import Roboflow\n",
        "rf = Roboflow(api_key=\"AuX83b3TUkz1802QnozK\")\n",
        "project = rf.workspace(\"aparna-8jdby\").project(\"room-lyc7i\")\n",
        "version = project.version(2)\n",
        "dataset = version.download(\"yolov11\")"
      ]
    },
    {
      "cell_type": "code",
      "execution_count": 3,
      "metadata": {
        "colab": {
          "base_uri": "https://localhost:8080/"
        },
        "id": "yyMtynKfs1JJ",
        "outputId": "34038913-1769-4e46-dcb0-7f5d11a05c9c"
      },
      "outputs": [
        {
          "name": "stdout",
          "output_type": "stream",
          "text": [
            "Looking in indexes: https://download.pytorch.org/whl/cu117\n",
            "Requirement already satisfied: torch in /Users/dhushanthankumararatnam/miniconda3/envs/VisionEnv/lib/python3.11/site-packages (2.4.1)\n",
            "Requirement already satisfied: torchvision in /Users/dhushanthankumararatnam/miniconda3/envs/VisionEnv/lib/python3.11/site-packages (0.19.1)\n",
            "Requirement already satisfied: torchaudio in /Users/dhushanthankumararatnam/miniconda3/envs/VisionEnv/lib/python3.11/site-packages (2.4.1)\n",
            "Requirement already satisfied: filelock in /Users/dhushanthankumararatnam/miniconda3/envs/VisionEnv/lib/python3.11/site-packages (from torch) (3.16.1)\n",
            "Requirement already satisfied: typing-extensions>=4.8.0 in /Users/dhushanthankumararatnam/miniconda3/envs/VisionEnv/lib/python3.11/site-packages (from torch) (4.12.2)\n",
            "Requirement already satisfied: sympy in /Users/dhushanthankumararatnam/miniconda3/envs/VisionEnv/lib/python3.11/site-packages (from torch) (1.13.3)\n",
            "Requirement already satisfied: networkx in /Users/dhushanthankumararatnam/miniconda3/envs/VisionEnv/lib/python3.11/site-packages (from torch) (3.3)\n",
            "Requirement already satisfied: jinja2 in /Users/dhushanthankumararatnam/miniconda3/envs/VisionEnv/lib/python3.11/site-packages (from torch) (3.1.4)\n",
            "Requirement already satisfied: fsspec in /Users/dhushanthankumararatnam/miniconda3/envs/VisionEnv/lib/python3.11/site-packages (from torch) (2024.9.0)\n",
            "Requirement already satisfied: numpy in /Users/dhushanthankumararatnam/miniconda3/envs/VisionEnv/lib/python3.11/site-packages (from torchvision) (1.26.4)\n",
            "Requirement already satisfied: pillow!=8.3.*,>=5.3.0 in /Users/dhushanthankumararatnam/miniconda3/envs/VisionEnv/lib/python3.11/site-packages (from torchvision) (10.4.0)\n",
            "Requirement already satisfied: MarkupSafe>=2.0 in /Users/dhushanthankumararatnam/miniconda3/envs/VisionEnv/lib/python3.11/site-packages (from jinja2->torch) (2.1.5)\n",
            "Requirement already satisfied: mpmath<1.4,>=1.1.0 in /Users/dhushanthankumararatnam/miniconda3/envs/VisionEnv/lib/python3.11/site-packages (from sympy->torch) (1.3.0)\n",
            "Note: you may need to restart the kernel to use updated packages.\n"
          ]
        }
      ],
      "source": [
        "pip install torch torchvision torchaudio --index-url https://download.pytorch.org/whl/cu117"
      ]
    },
    {
      "cell_type": "code",
      "execution_count": 4,
      "metadata": {
        "colab": {
          "base_uri": "https://localhost:8080/"
        },
        "id": "5u5arPzSs8gj",
        "outputId": "e98ba3ab-f104-4a42-d88e-60814d8acdf9"
      },
      "outputs": [
        {
          "name": "stdout",
          "output_type": "stream",
          "text": [
            "Requirement already satisfied: ultralytics in /Users/dhushanthankumararatnam/miniconda3/envs/VisionEnv/lib/python3.11/site-packages (8.3.20)\n",
            "Requirement already satisfied: numpy>=1.23.0 in /Users/dhushanthankumararatnam/miniconda3/envs/VisionEnv/lib/python3.11/site-packages (from ultralytics) (1.26.4)\n",
            "Requirement already satisfied: matplotlib>=3.3.0 in /Users/dhushanthankumararatnam/miniconda3/envs/VisionEnv/lib/python3.11/site-packages (from ultralytics) (3.9.2)\n",
            "Requirement already satisfied: opencv-python>=4.6.0 in /Users/dhushanthankumararatnam/miniconda3/envs/VisionEnv/lib/python3.11/site-packages (from ultralytics) (4.10.0.84)\n",
            "Requirement already satisfied: pillow>=7.1.2 in /Users/dhushanthankumararatnam/miniconda3/envs/VisionEnv/lib/python3.11/site-packages (from ultralytics) (10.4.0)\n",
            "Requirement already satisfied: pyyaml>=5.3.1 in /Users/dhushanthankumararatnam/miniconda3/envs/VisionEnv/lib/python3.11/site-packages (from ultralytics) (6.0.2)\n",
            "Requirement already satisfied: requests>=2.23.0 in /Users/dhushanthankumararatnam/miniconda3/envs/VisionEnv/lib/python3.11/site-packages (from ultralytics) (2.31.0)\n",
            "Requirement already satisfied: scipy>=1.4.1 in /Users/dhushanthankumararatnam/miniconda3/envs/VisionEnv/lib/python3.11/site-packages (from ultralytics) (1.13.1)\n",
            "Requirement already satisfied: torch>=1.8.0 in /Users/dhushanthankumararatnam/miniconda3/envs/VisionEnv/lib/python3.11/site-packages (from ultralytics) (2.4.1)\n",
            "Requirement already satisfied: torchvision>=0.9.0 in /Users/dhushanthankumararatnam/miniconda3/envs/VisionEnv/lib/python3.11/site-packages (from ultralytics) (0.19.1)\n",
            "Requirement already satisfied: tqdm>=4.64.0 in /Users/dhushanthankumararatnam/miniconda3/envs/VisionEnv/lib/python3.11/site-packages (from ultralytics) (4.66.5)\n",
            "Requirement already satisfied: psutil in /Users/dhushanthankumararatnam/miniconda3/envs/VisionEnv/lib/python3.11/site-packages (from ultralytics) (5.9.0)\n",
            "Requirement already satisfied: py-cpuinfo in /Users/dhushanthankumararatnam/miniconda3/envs/VisionEnv/lib/python3.11/site-packages (from ultralytics) (9.0.0)\n",
            "Requirement already satisfied: pandas>=1.1.4 in /Users/dhushanthankumararatnam/miniconda3/envs/VisionEnv/lib/python3.11/site-packages (from ultralytics) (2.2.3)\n",
            "Requirement already satisfied: seaborn>=0.11.0 in /Users/dhushanthankumararatnam/miniconda3/envs/VisionEnv/lib/python3.11/site-packages (from ultralytics) (0.13.2)\n",
            "Requirement already satisfied: ultralytics-thop>=2.0.0 in /Users/dhushanthankumararatnam/miniconda3/envs/VisionEnv/lib/python3.11/site-packages (from ultralytics) (2.0.9)\n",
            "Requirement already satisfied: contourpy>=1.0.1 in /Users/dhushanthankumararatnam/miniconda3/envs/VisionEnv/lib/python3.11/site-packages (from matplotlib>=3.3.0->ultralytics) (1.3.0)\n",
            "Requirement already satisfied: cycler>=0.10 in /Users/dhushanthankumararatnam/miniconda3/envs/VisionEnv/lib/python3.11/site-packages (from matplotlib>=3.3.0->ultralytics) (0.12.1)\n",
            "Requirement already satisfied: fonttools>=4.22.0 in /Users/dhushanthankumararatnam/miniconda3/envs/VisionEnv/lib/python3.11/site-packages (from matplotlib>=3.3.0->ultralytics) (4.54.1)\n",
            "Requirement already satisfied: kiwisolver>=1.3.1 in /Users/dhushanthankumararatnam/miniconda3/envs/VisionEnv/lib/python3.11/site-packages (from matplotlib>=3.3.0->ultralytics) (1.4.7)\n",
            "Requirement already satisfied: packaging>=20.0 in /Users/dhushanthankumararatnam/miniconda3/envs/VisionEnv/lib/python3.11/site-packages (from matplotlib>=3.3.0->ultralytics) (24.1)\n",
            "Requirement already satisfied: pyparsing>=2.3.1 in /Users/dhushanthankumararatnam/miniconda3/envs/VisionEnv/lib/python3.11/site-packages (from matplotlib>=3.3.0->ultralytics) (3.1.4)\n",
            "Requirement already satisfied: python-dateutil>=2.7 in /Users/dhushanthankumararatnam/miniconda3/envs/VisionEnv/lib/python3.11/site-packages (from matplotlib>=3.3.0->ultralytics) (2.9.0)\n",
            "Requirement already satisfied: pytz>=2020.1 in /Users/dhushanthankumararatnam/miniconda3/envs/VisionEnv/lib/python3.11/site-packages (from pandas>=1.1.4->ultralytics) (2024.2)\n",
            "Requirement already satisfied: tzdata>=2022.7 in /Users/dhushanthankumararatnam/miniconda3/envs/VisionEnv/lib/python3.11/site-packages (from pandas>=1.1.4->ultralytics) (2024.2)\n",
            "Requirement already satisfied: charset-normalizer<4,>=2 in /Users/dhushanthankumararatnam/miniconda3/envs/VisionEnv/lib/python3.11/site-packages (from requests>=2.23.0->ultralytics) (3.3.2)\n",
            "Requirement already satisfied: idna<4,>=2.5 in /Users/dhushanthankumararatnam/miniconda3/envs/VisionEnv/lib/python3.11/site-packages (from requests>=2.23.0->ultralytics) (3.7)\n",
            "Requirement already satisfied: urllib3<3,>=1.21.1 in /Users/dhushanthankumararatnam/miniconda3/envs/VisionEnv/lib/python3.11/site-packages (from requests>=2.23.0->ultralytics) (1.26.20)\n",
            "Requirement already satisfied: certifi>=2017.4.17 in /Users/dhushanthankumararatnam/miniconda3/envs/VisionEnv/lib/python3.11/site-packages (from requests>=2.23.0->ultralytics) (2024.8.30)\n",
            "Requirement already satisfied: filelock in /Users/dhushanthankumararatnam/miniconda3/envs/VisionEnv/lib/python3.11/site-packages (from torch>=1.8.0->ultralytics) (3.16.1)\n",
            "Requirement already satisfied: typing-extensions>=4.8.0 in /Users/dhushanthankumararatnam/miniconda3/envs/VisionEnv/lib/python3.11/site-packages (from torch>=1.8.0->ultralytics) (4.12.2)\n",
            "Requirement already satisfied: sympy in /Users/dhushanthankumararatnam/miniconda3/envs/VisionEnv/lib/python3.11/site-packages (from torch>=1.8.0->ultralytics) (1.13.3)\n",
            "Requirement already satisfied: networkx in /Users/dhushanthankumararatnam/miniconda3/envs/VisionEnv/lib/python3.11/site-packages (from torch>=1.8.0->ultralytics) (3.3)\n",
            "Requirement already satisfied: jinja2 in /Users/dhushanthankumararatnam/miniconda3/envs/VisionEnv/lib/python3.11/site-packages (from torch>=1.8.0->ultralytics) (3.1.4)\n",
            "Requirement already satisfied: fsspec in /Users/dhushanthankumararatnam/miniconda3/envs/VisionEnv/lib/python3.11/site-packages (from torch>=1.8.0->ultralytics) (2024.9.0)\n",
            "Requirement already satisfied: six>=1.5 in /Users/dhushanthankumararatnam/miniconda3/envs/VisionEnv/lib/python3.11/site-packages (from python-dateutil>=2.7->matplotlib>=3.3.0->ultralytics) (1.16.0)\n",
            "Requirement already satisfied: MarkupSafe>=2.0 in /Users/dhushanthankumararatnam/miniconda3/envs/VisionEnv/lib/python3.11/site-packages (from jinja2->torch>=1.8.0->ultralytics) (2.1.5)\n",
            "Requirement already satisfied: mpmath<1.4,>=1.1.0 in /Users/dhushanthankumararatnam/miniconda3/envs/VisionEnv/lib/python3.11/site-packages (from sympy->torch>=1.8.0->ultralytics) (1.3.0)\n",
            "Note: you may need to restart the kernel to use updated packages.\n"
          ]
        }
      ],
      "source": [
        "pip install ultralytics"
      ]
    },
    {
      "cell_type": "code",
      "execution_count": 5,
      "metadata": {
        "colab": {
          "base_uri": "https://localhost:8080/"
        },
        "id": "nWRsoCCUttJy",
        "outputId": "290a113d-5298-47b7-b236-76e32d820efb"
      },
      "outputs": [
        {
          "name": "stdout",
          "output_type": "stream",
          "text": [
            "Collecting wandb\n",
            "  Downloading wandb-0.18.5-py3-none-macosx_11_0_arm64.whl.metadata (9.7 kB)\n",
            "Requirement already satisfied: click!=8.0.0,>=7.1 in /Users/dhushanthankumararatnam/miniconda3/envs/VisionEnv/lib/python3.11/site-packages (from wandb) (8.1.7)\n",
            "Collecting docker-pycreds>=0.4.0 (from wandb)\n",
            "  Downloading docker_pycreds-0.4.0-py2.py3-none-any.whl.metadata (1.8 kB)\n",
            "Collecting gitpython!=3.1.29,>=1.0.0 (from wandb)\n",
            "  Using cached GitPython-3.1.43-py3-none-any.whl.metadata (13 kB)\n",
            "Requirement already satisfied: platformdirs in /Users/dhushanthankumararatnam/miniconda3/envs/VisionEnv/lib/python3.11/site-packages (from wandb) (4.3.6)\n",
            "Requirement already satisfied: protobuf!=4.21.0,!=5.28.0,<6,>=3.19.0 in /Users/dhushanthankumararatnam/miniconda3/envs/VisionEnv/lib/python3.11/site-packages (from wandb) (4.25.5)\n",
            "Requirement already satisfied: psutil>=5.0.0 in /Users/dhushanthankumararatnam/miniconda3/envs/VisionEnv/lib/python3.11/site-packages (from wandb) (5.9.0)\n",
            "Requirement already satisfied: pyyaml in /Users/dhushanthankumararatnam/miniconda3/envs/VisionEnv/lib/python3.11/site-packages (from wandb) (6.0.2)\n",
            "Requirement already satisfied: requests<3,>=2.0.0 in /Users/dhushanthankumararatnam/miniconda3/envs/VisionEnv/lib/python3.11/site-packages (from wandb) (2.31.0)\n",
            "Collecting sentry-sdk>=2.0.0 (from wandb)\n",
            "  Downloading sentry_sdk-2.17.0-py2.py3-none-any.whl.metadata (9.8 kB)\n",
            "Collecting setproctitle (from wandb)\n",
            "  Downloading setproctitle-1.3.3-cp311-cp311-macosx_10_9_universal2.whl.metadata (9.9 kB)\n",
            "Requirement already satisfied: setuptools in /Users/dhushanthankumararatnam/miniconda3/envs/VisionEnv/lib/python3.11/site-packages (from wandb) (75.1.0)\n",
            "Requirement already satisfied: typing-extensions<5,>=4.4 in /Users/dhushanthankumararatnam/miniconda3/envs/VisionEnv/lib/python3.11/site-packages (from wandb) (4.12.2)\n",
            "Requirement already satisfied: six>=1.4.0 in /Users/dhushanthankumararatnam/miniconda3/envs/VisionEnv/lib/python3.11/site-packages (from docker-pycreds>=0.4.0->wandb) (1.16.0)\n",
            "Collecting gitdb<5,>=4.0.1 (from gitpython!=3.1.29,>=1.0.0->wandb)\n",
            "  Using cached gitdb-4.0.11-py3-none-any.whl.metadata (1.2 kB)\n",
            "Requirement already satisfied: charset-normalizer<4,>=2 in /Users/dhushanthankumararatnam/miniconda3/envs/VisionEnv/lib/python3.11/site-packages (from requests<3,>=2.0.0->wandb) (3.3.2)\n",
            "Requirement already satisfied: idna<4,>=2.5 in /Users/dhushanthankumararatnam/miniconda3/envs/VisionEnv/lib/python3.11/site-packages (from requests<3,>=2.0.0->wandb) (3.7)\n",
            "Requirement already satisfied: urllib3<3,>=1.21.1 in /Users/dhushanthankumararatnam/miniconda3/envs/VisionEnv/lib/python3.11/site-packages (from requests<3,>=2.0.0->wandb) (1.26.20)\n",
            "Requirement already satisfied: certifi>=2017.4.17 in /Users/dhushanthankumararatnam/miniconda3/envs/VisionEnv/lib/python3.11/site-packages (from requests<3,>=2.0.0->wandb) (2024.8.30)\n",
            "Collecting smmap<6,>=3.0.1 (from gitdb<5,>=4.0.1->gitpython!=3.1.29,>=1.0.0->wandb)\n",
            "  Using cached smmap-5.0.1-py3-none-any.whl.metadata (4.3 kB)\n",
            "Downloading wandb-0.18.5-py3-none-macosx_11_0_arm64.whl (15.2 MB)\n",
            "\u001b[2K   \u001b[90m━━━━━━━━━━━━━━━━━━━━━━━━━━━━━━━━━━━━━━━━\u001b[0m \u001b[32m15.2/15.2 MB\u001b[0m \u001b[31m284.2 kB/s\u001b[0m eta \u001b[36m0:00:00\u001b[0m00:01\u001b[0m00:03\u001b[0m\n",
            "\u001b[?25hDownloading docker_pycreds-0.4.0-py2.py3-none-any.whl (9.0 kB)\n",
            "Using cached GitPython-3.1.43-py3-none-any.whl (207 kB)\n",
            "Downloading sentry_sdk-2.17.0-py2.py3-none-any.whl (314 kB)\n",
            "Downloading setproctitle-1.3.3-cp311-cp311-macosx_10_9_universal2.whl (16 kB)\n",
            "Using cached gitdb-4.0.11-py3-none-any.whl (62 kB)\n",
            "Using cached smmap-5.0.1-py3-none-any.whl (24 kB)\n",
            "Installing collected packages: smmap, setproctitle, sentry-sdk, docker-pycreds, gitdb, gitpython, wandb\n",
            "Successfully installed docker-pycreds-0.4.0 gitdb-4.0.11 gitpython-3.1.43 sentry-sdk-2.17.0 setproctitle-1.3.3 smmap-5.0.1 wandb-0.18.5\n"
          ]
        }
      ],
      "source": [
        "!pip install wandb"
      ]
    },
    {
      "cell_type": "code",
      "execution_count": null,
      "metadata": {
        "colab": {
          "base_uri": "https://localhost:8080/",
          "height": 139
        },
        "id": "aN1Lhu8Tt0gz",
        "outputId": "48837100-3bf4-416e-abbb-bc358ab1b8f7"
      },
      "outputs": [
        {
          "data": {
            "application/javascript": "\n        window._wandbApiKey = new Promise((resolve, reject) => {\n            function loadScript(url) {\n            return new Promise(function(resolve, reject) {\n                let newScript = document.createElement(\"script\");\n                newScript.onerror = reject;\n                newScript.onload = resolve;\n                document.body.appendChild(newScript);\n                newScript.src = url;\n            });\n            }\n            loadScript(\"https://cdn.jsdelivr.net/npm/postmate/build/postmate.min.js\").then(() => {\n            const iframe = document.createElement('iframe')\n            iframe.style.cssText = \"width:0;height:0;border:none\"\n            document.body.appendChild(iframe)\n            const handshake = new Postmate({\n                container: iframe,\n                url: 'https://wandb.ai/authorize'\n            });\n            const timeout = setTimeout(() => reject(\"Couldn't auto authenticate\"), 5000)\n            handshake.then(function(child) {\n                child.on('authorize', data => {\n                    clearTimeout(timeout)\n                    resolve(data)\n                });\n            });\n            })\n        });\n    ",
            "text/plain": [
              "<IPython.core.display.Javascript object>"
            ]
          },
          "metadata": {},
          "output_type": "display_data"
        },
        {
          "name": "stderr",
          "output_type": "stream",
          "text": [
            "\u001b[34m\u001b[1mwandb\u001b[0m: Logging into wandb.ai. (Learn how to deploy a W&B server locally: https://wandb.me/wandb-server)\n",
            "\u001b[34m\u001b[1mwandb\u001b[0m: You can find your API key in your browser here: https://wandb.ai/authorize\n",
            "wandb: Paste an API key from your profile and hit enter, or press ctrl+c to quit:"
          ]
        },
        {
          "name": "stdout",
          "output_type": "stream",
          "text": [
            " ··········\n"
          ]
        },
        {
          "name": "stderr",
          "output_type": "stream",
          "text": [
            "\u001b[34m\u001b[1mwandb\u001b[0m: Appending key for api.wandb.ai to your netrc file: /root/.netrc\n"
          ]
        },
        {
          "data": {
            "text/plain": [
              "True"
            ]
          },
          "execution_count": 6,
          "metadata": {},
          "output_type": "execute_result"
        }
      ],
      "source": [
        "import wandb\n",
        "wandb.login()"
      ]
    },
    {
      "cell_type": "code",
      "execution_count": null,
      "metadata": {
        "colab": {
          "base_uri": "https://localhost:8080/",
          "height": 1000
        },
        "id": "-jcUkbFSsmg9",
        "outputId": "ee23411c-161f-4f9a-8d7b-c6f276e27032"
      },
      "outputs": [
        {
          "name": "stdout",
          "output_type": "stream",
          "text": [
            "Ultralytics 8.3.20 🚀 Python-3.10.12 torch-2.4.1+cu121 CPU (Intel Xeon 2.00GHz)\n",
            "\u001b[34m\u001b[1mengine/trainer: \u001b[0mtask=detect, mode=train, model=yolo11n.pt, data=/content/room-2/data.yaml, epochs=5, time=None, patience=100, batch=16, imgsz=640, save=True, save_period=-1, cache=False, device=cpu, workers=8, project=None, name=train2, exist_ok=False, pretrained=True, optimizer=auto, verbose=True, seed=0, deterministic=True, single_cls=False, rect=False, cos_lr=False, close_mosaic=10, resume=False, amp=True, fraction=1.0, profile=False, freeze=None, multi_scale=False, overlap_mask=True, mask_ratio=4, dropout=0.0, val=True, split=val, save_json=False, save_hybrid=False, conf=None, iou=0.7, max_det=300, half=False, dnn=False, plots=True, source=None, vid_stride=1, stream_buffer=False, visualize=False, augment=False, agnostic_nms=False, classes=None, retina_masks=False, embed=None, show=False, save_frames=False, save_txt=False, save_conf=False, save_crop=False, show_labels=True, show_conf=True, show_boxes=True, line_width=None, format=torchscript, keras=False, optimize=False, int8=False, dynamic=False, simplify=True, opset=None, workspace=4, nms=False, lr0=0.01, lrf=0.01, momentum=0.937, weight_decay=0.0005, warmup_epochs=3.0, warmup_momentum=0.8, warmup_bias_lr=0.1, box=7.5, cls=0.5, dfl=1.5, pose=12.0, kobj=1.0, label_smoothing=0.0, nbs=64, hsv_h=0.015, hsv_s=0.7, hsv_v=0.4, degrees=0.0, translate=0.1, scale=0.5, shear=0.0, perspective=0.0, flipud=0.0, fliplr=0.5, bgr=0.0, mosaic=1.0, mixup=0.0, copy_paste=0.0, copy_paste_mode=flip, auto_augment=randaugment, erasing=0.4, crop_fraction=1.0, cfg=None, tracker=botsort.yaml, save_dir=runs/detect/train2\n",
            "Overriding model.yaml nc=80 with nc=1\n",
            "\n",
            "                   from  n    params  module                                       arguments                     \n",
            "  0                  -1  1       464  ultralytics.nn.modules.conv.Conv             [3, 16, 3, 2]                 \n",
            "  1                  -1  1      4672  ultralytics.nn.modules.conv.Conv             [16, 32, 3, 2]                \n",
            "  2                  -1  1      6640  ultralytics.nn.modules.block.C3k2            [32, 64, 1, False, 0.25]      \n",
            "  3                  -1  1     36992  ultralytics.nn.modules.conv.Conv             [64, 64, 3, 2]                \n",
            "  4                  -1  1     26080  ultralytics.nn.modules.block.C3k2            [64, 128, 1, False, 0.25]     \n",
            "  5                  -1  1    147712  ultralytics.nn.modules.conv.Conv             [128, 128, 3, 2]              \n",
            "  6                  -1  1     87040  ultralytics.nn.modules.block.C3k2            [128, 128, 1, True]           \n",
            "  7                  -1  1    295424  ultralytics.nn.modules.conv.Conv             [128, 256, 3, 2]              \n",
            "  8                  -1  1    346112  ultralytics.nn.modules.block.C3k2            [256, 256, 1, True]           \n",
            "  9                  -1  1    164608  ultralytics.nn.modules.block.SPPF            [256, 256, 5]                 \n",
            " 10                  -1  1    249728  ultralytics.nn.modules.block.C2PSA           [256, 256, 1]                 \n",
            " 11                  -1  1         0  torch.nn.modules.upsampling.Upsample         [None, 2, 'nearest']          \n",
            " 12             [-1, 6]  1         0  ultralytics.nn.modules.conv.Concat           [1]                           \n",
            " 13                  -1  1    111296  ultralytics.nn.modules.block.C3k2            [384, 128, 1, False]          \n",
            " 14                  -1  1         0  torch.nn.modules.upsampling.Upsample         [None, 2, 'nearest']          \n",
            " 15             [-1, 4]  1         0  ultralytics.nn.modules.conv.Concat           [1]                           \n",
            " 16                  -1  1     32096  ultralytics.nn.modules.block.C3k2            [256, 64, 1, False]           \n",
            " 17                  -1  1     36992  ultralytics.nn.modules.conv.Conv             [64, 64, 3, 2]                \n",
            " 18            [-1, 13]  1         0  ultralytics.nn.modules.conv.Concat           [1]                           \n",
            " 19                  -1  1     86720  ultralytics.nn.modules.block.C3k2            [192, 128, 1, False]          \n",
            " 20                  -1  1    147712  ultralytics.nn.modules.conv.Conv             [128, 128, 3, 2]              \n",
            " 21            [-1, 10]  1         0  ultralytics.nn.modules.conv.Concat           [1]                           \n",
            " 22                  -1  1    378880  ultralytics.nn.modules.block.C3k2            [384, 256, 1, True]           \n",
            " 23        [16, 19, 22]  1    430867  ultralytics.nn.modules.head.Detect           [1, [64, 128, 256]]           \n",
            "YOLO11n summary: 319 layers, 2,590,035 parameters, 2,590,019 gradients, 6.4 GFLOPs\n",
            "\n",
            "Transferred 448/499 items from pretrained weights\n",
            "\u001b[34m\u001b[1mTensorBoard: \u001b[0mStart with 'tensorboard --logdir runs/detect/train2', view at http://localhost:6006/\n",
            "Freezing layer 'model.23.dfl.conv.weight'\n"
          ]
        },
        {
          "name": "stderr",
          "output_type": "stream",
          "text": [
            "\u001b[34m\u001b[1mtrain: \u001b[0mScanning /content/room-2/train/labels.cache... 1718 images, 0 backgrounds, 0 corrupt: 100%|██████████| 1718/1718 [00:00<?, ?it/s]"
          ]
        },
        {
          "name": "stdout",
          "output_type": "stream",
          "text": [
            "\u001b[34m\u001b[1malbumentations: \u001b[0mBlur(p=0.01, blur_limit=(3, 7)), MedianBlur(p=0.01, blur_limit=(3, 7)), ToGray(p=0.01, num_output_channels=3, method='weighted_average'), CLAHE(p=0.01, clip_limit=(1, 4.0), tile_grid_size=(8, 8))\n"
          ]
        },
        {
          "name": "stderr",
          "output_type": "stream",
          "text": [
            "\n",
            "\u001b[34m\u001b[1mval: \u001b[0mScanning /content/room-2/valid/labels.cache... 95 images, 0 backgrounds, 0 corrupt: 100%|██████████| 95/95 [00:00<?, ?it/s]"
          ]
        },
        {
          "name": "stdout",
          "output_type": "stream",
          "text": [
            "Plotting labels to runs/detect/train2/labels.jpg... \n"
          ]
        },
        {
          "name": "stderr",
          "output_type": "stream",
          "text": [
            "\n"
          ]
        },
        {
          "name": "stdout",
          "output_type": "stream",
          "text": [
            "\u001b[34m\u001b[1moptimizer:\u001b[0m 'optimizer=auto' found, ignoring 'lr0=0.01' and 'momentum=0.937' and determining best 'optimizer', 'lr0' and 'momentum' automatically... \n",
            "\u001b[34m\u001b[1moptimizer:\u001b[0m AdamW(lr=0.002, momentum=0.9) with parameter groups 81 weight(decay=0.0), 88 weight(decay=0.0005), 87 bias(decay=0.0)\n",
            "\u001b[34m\u001b[1mTensorBoard: \u001b[0mmodel graph visualization added ✅\n",
            "Image sizes 640 train, 640 val\n",
            "Using 0 dataloader workers\n",
            "Logging results to \u001b[1mruns/detect/train2\u001b[0m\n",
            "Starting training for 5 epochs...\n",
            "\n",
            "      Epoch    GPU_mem   box_loss   cls_loss   dfl_loss  Instances       Size\n"
          ]
        },
        {
          "name": "stderr",
          "output_type": "stream",
          "text": [
            "        1/5         0G      1.062      2.121      1.237         25        640: 100%|██████████| 108/108 [16:20<00:00,  9.08s/it]\n",
            "                 Class     Images  Instances      Box(P          R      mAP50  mAP50-95): 100%|██████████| 3/3 [00:21<00:00,  7.05s/it]"
          ]
        },
        {
          "name": "stdout",
          "output_type": "stream",
          "text": [
            "                   all         95        203      0.356      0.394      0.235      0.114\n"
          ]
        },
        {
          "name": "stderr",
          "output_type": "stream",
          "text": [
            "\n"
          ]
        },
        {
          "name": "stdout",
          "output_type": "stream",
          "text": [
            "\n",
            "      Epoch    GPU_mem   box_loss   cls_loss   dfl_loss  Instances       Size\n"
          ]
        },
        {
          "name": "stderr",
          "output_type": "stream",
          "text": [
            "        2/5         0G      1.075      1.584      1.243         44        640: 100%|██████████| 108/108 [17:25<00:00,  9.68s/it]\n",
            "                 Class     Images  Instances      Box(P          R      mAP50  mAP50-95): 100%|██████████| 3/3 [00:22<00:00,  7.64s/it]"
          ]
        },
        {
          "name": "stdout",
          "output_type": "stream",
          "text": [
            "                   all         95        203      0.515      0.419      0.357      0.236\n"
          ]
        },
        {
          "name": "stderr",
          "output_type": "stream",
          "text": [
            "\n"
          ]
        },
        {
          "name": "stdout",
          "output_type": "stream",
          "text": [
            "\n",
            "      Epoch    GPU_mem   box_loss   cls_loss   dfl_loss  Instances       Size\n"
          ]
        },
        {
          "name": "stderr",
          "output_type": "stream",
          "text": [
            "        3/5         0G      1.096      1.469      1.254         16        640: 100%|██████████| 108/108 [17:31<00:00,  9.73s/it]\n",
            "                 Class     Images  Instances      Box(P          R      mAP50  mAP50-95): 100%|██████████| 3/3 [00:22<00:00,  7.48s/it]"
          ]
        },
        {
          "name": "stdout",
          "output_type": "stream",
          "text": [
            "                   all         95        203      0.452      0.374      0.306      0.176\n"
          ]
        },
        {
          "name": "stderr",
          "output_type": "stream",
          "text": [
            "\n"
          ]
        },
        {
          "name": "stdout",
          "output_type": "stream",
          "text": [
            "\n",
            "      Epoch    GPU_mem   box_loss   cls_loss   dfl_loss  Instances       Size\n"
          ]
        },
        {
          "name": "stderr",
          "output_type": "stream",
          "text": [
            "        4/5         0G      1.011      1.313      1.208         53        640: 100%|██████████| 108/108 [17:08<00:00,  9.52s/it]\n",
            "                 Class     Images  Instances      Box(P          R      mAP50  mAP50-95): 100%|██████████| 3/3 [00:21<00:00,  7.13s/it]"
          ]
        },
        {
          "name": "stdout",
          "output_type": "stream",
          "text": [
            "                   all         95        203      0.689      0.429      0.474      0.321\n"
          ]
        },
        {
          "name": "stderr",
          "output_type": "stream",
          "text": [
            "\n"
          ]
        },
        {
          "name": "stdout",
          "output_type": "stream",
          "text": [
            "\n",
            "      Epoch    GPU_mem   box_loss   cls_loss   dfl_loss  Instances       Size\n"
          ]
        },
        {
          "name": "stderr",
          "output_type": "stream",
          "text": [
            "        5/5         0G     0.9106      1.123      1.154         30        640: 100%|██████████| 108/108 [17:12<00:00,  9.56s/it]\n",
            "                 Class     Images  Instances      Box(P          R      mAP50  mAP50-95): 100%|██████████| 3/3 [00:20<00:00,  6.89s/it]"
          ]
        },
        {
          "name": "stdout",
          "output_type": "stream",
          "text": [
            "                   all         95        203      0.754      0.498      0.561      0.384\n"
          ]
        },
        {
          "name": "stderr",
          "output_type": "stream",
          "text": [
            "\n"
          ]
        },
        {
          "name": "stdout",
          "output_type": "stream",
          "text": [
            "\n",
            "5 epochs completed in 1.460 hours.\n",
            "Optimizer stripped from runs/detect/train2/weights/last.pt, 5.5MB\n",
            "Optimizer stripped from runs/detect/train2/weights/best.pt, 5.5MB\n",
            "\n",
            "Validating runs/detect/train2/weights/best.pt...\n",
            "Ultralytics 8.3.20 🚀 Python-3.10.12 torch-2.4.1+cu121 CPU (Intel Xeon 2.00GHz)\n",
            "YOLO11n summary (fused): 238 layers, 2,582,347 parameters, 0 gradients, 6.3 GFLOPs\n"
          ]
        },
        {
          "name": "stderr",
          "output_type": "stream",
          "text": [
            "                 Class     Images  Instances      Box(P          R      mAP50  mAP50-95): 100%|██████████| 3/3 [00:19<00:00,  6.42s/it]\n"
          ]
        },
        {
          "name": "stdout",
          "output_type": "stream",
          "text": [
            "                   all         95        203      0.752      0.498      0.561      0.384\n",
            "Speed: 2.2ms preprocess, 187.3ms inference, 0.0ms loss, 1.3ms postprocess per image\n",
            "Results saved to \u001b[1mruns/detect/train2\u001b[0m\n"
          ]
        },
        {
          "data": {
            "text/html": [
              "<style>\n",
              "    table.wandb td:nth-child(1) { padding: 0 10px; text-align: left ; width: auto;} td:nth-child(2) {text-align: left ; width: 100%}\n",
              "    .wandb-row { display: flex; flex-direction: row; flex-wrap: wrap; justify-content: flex-start; width: 100% }\n",
              "    .wandb-col { display: flex; flex-direction: column; flex-basis: 100%; flex: 1; padding: 10px; }\n",
              "    </style>\n",
              "<div class=\"wandb-row\"><div class=\"wandb-col\"><h3>Run history:</h3><br/><table class=\"wandb\"><tr><td>lr/pg0</td><td>▃▇█▅▁</td></tr><tr><td>lr/pg1</td><td>▃▇█▅▁</td></tr><tr><td>lr/pg2</td><td>▃▇█▅▁</td></tr><tr><td>metrics/mAP50(B)</td><td>▁▄▃▆█</td></tr><tr><td>metrics/mAP50-95(B)</td><td>▁▄▃▆█</td></tr><tr><td>metrics/precision(B)</td><td>▁▄▃▇█</td></tr><tr><td>metrics/recall(B)</td><td>▂▄▁▄█</td></tr><tr><td>model/GFLOPs</td><td>▁</td></tr><tr><td>model/parameters</td><td>▁</td></tr><tr><td>model/speed_PyTorch(ms)</td><td>▁</td></tr><tr><td>train/box_loss</td><td>▇▇█▅▁</td></tr><tr><td>train/cls_loss</td><td>█▄▃▂▁</td></tr><tr><td>train/dfl_loss</td><td>▇▇█▅▁</td></tr><tr><td>val/box_loss</td><td>█▇▅▂▁</td></tr><tr><td>val/cls_loss</td><td>█▄▇▂▁</td></tr><tr><td>val/dfl_loss</td><td>█▅▅▁▁</td></tr></table><br/></div><div class=\"wandb-col\"><h3>Run summary:</h3><br/><table class=\"wandb\"><tr><td>lr/pg0</td><td>0.00042</td></tr><tr><td>lr/pg1</td><td>0.00042</td></tr><tr><td>lr/pg2</td><td>0.00042</td></tr><tr><td>metrics/mAP50(B)</td><td>0.56111</td></tr><tr><td>metrics/mAP50-95(B)</td><td>0.38433</td></tr><tr><td>metrics/precision(B)</td><td>0.75194</td></tr><tr><td>metrics/recall(B)</td><td>0.49754</td></tr><tr><td>model/GFLOPs</td><td>6.441</td></tr><tr><td>model/parameters</td><td>2590035</td></tr><tr><td>model/speed_PyTorch(ms)</td><td>178.858</td></tr><tr><td>train/box_loss</td><td>0.91061</td></tr><tr><td>train/cls_loss</td><td>1.12269</td></tr><tr><td>train/dfl_loss</td><td>1.1538</td></tr><tr><td>val/box_loss</td><td>1.1527</td></tr><tr><td>val/cls_loss</td><td>1.50611</td></tr><tr><td>val/dfl_loss</td><td>1.20314</td></tr></table><br/></div></div>"
            ],
            "text/plain": [
              "<IPython.core.display.HTML object>"
            ]
          },
          "metadata": {},
          "output_type": "display_data"
        },
        {
          "data": {
            "text/html": [
              " View run <strong style=\"color:#cdcd00\">train</strong> at: <a href='https://wandb.ai/dhushanthankumararatnam-university-of-peradeniya/Ultralytics/runs/8t9wlhuh' target=\"_blank\">https://wandb.ai/dhushanthankumararatnam-university-of-peradeniya/Ultralytics/runs/8t9wlhuh</a><br/> View project at: <a href='https://wandb.ai/dhushanthankumararatnam-university-of-peradeniya/Ultralytics' target=\"_blank\">https://wandb.ai/dhushanthankumararatnam-university-of-peradeniya/Ultralytics</a><br/>Synced 5 W&B file(s), 0 media file(s), 10 artifact file(s) and 21 other file(s)"
            ],
            "text/plain": [
              "<IPython.core.display.HTML object>"
            ]
          },
          "metadata": {},
          "output_type": "display_data"
        },
        {
          "data": {
            "text/html": [
              "Find logs at: <code>./wandb/run-20241023_045945-8t9wlhuh/logs</code>"
            ],
            "text/plain": [
              "<IPython.core.display.HTML object>"
            ]
          },
          "metadata": {},
          "output_type": "display_data"
        }
      ],
      "source": [
        "from ultralytics import YOLO\n",
        "import torch  # Import torch module\n",
        "\n",
        "# Load a model\n",
        "model = YOLO(\"yolo11n.pt\")\n",
        "\n",
        "# Train the model\n",
        "train_results = model.train(\n",
        "    data=\"/content/room-2/data.yaml\",  # path to dataset YAML\n",
        "    epochs=5,  # number of training epochs\n",
        "    imgsz=640,  # training image size\n",
        "    device='cpu'  # device to run on, i.e. device=0 or device='cpu'\n",
        ")"
      ]
    },
    {
      "cell_type": "code",
      "execution_count": 8,
      "metadata": {
        "colab": {
          "base_uri": "https://localhost:8080/",
          "height": 1000
        },
        "id": "kIgdylzbEkZ8",
        "outputId": "ec2d14a7-b122-4dd1-e300-d30f4eb8d95e"
      },
      "outputs": [
        {
          "name": "stdout",
          "output_type": "stream",
          "text": [
            "\n",
            "image 1/1 /Users/dhushanthankumararatnam/Documents/DMIE_RE/DMIE_AMR/floor detection/Floor_Detection_Yolo11_Final/image.webp: 448x640 2 floors, 71.2ms\n",
            "Speed: 7.6ms preprocess, 71.2ms inference, 10.9ms postprocess per image at shape (1, 3, 448, 640)\n",
            "Results saved to \u001b[1m/Users/dhushanthankumararatnam/runs/detect/predict6\u001b[0m\n"
          ]
        }
      ],
      "source": [
        "from ultralytics import YOLO\n",
        "\n",
        "# Load a model\n",
        "model = YOLO(\"best.pt\")\n",
        "\n",
        "# Perform object detection on an image\n",
        "results = model(\"image.webp\", save= True)\n",
        "results[0].show()"
      ]
    }
  ],
  "metadata": {
    "accelerator": "GPU",
    "colab": {
      "gpuType": "T4",
      "provenance": []
    },
    "kernelspec": {
      "display_name": "VisionEnv",
      "language": "python",
      "name": "python3"
    },
    "language_info": {
      "codemirror_mode": {
        "name": "ipython",
        "version": 3
      },
      "file_extension": ".py",
      "mimetype": "text/x-python",
      "name": "python",
      "nbconvert_exporter": "python",
      "pygments_lexer": "ipython3",
      "version": "3.11.9"
    }
  },
  "nbformat": 4,
  "nbformat_minor": 0
}
